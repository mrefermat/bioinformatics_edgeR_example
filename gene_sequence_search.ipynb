{
 "cells": [
  {
   "cell_type": "code",
   "execution_count": 1,
   "metadata": {},
   "outputs": [],
   "source": [
    "%matplotlib inline\n",
    "import pandas as pd\n",
    "from gene_matching import *"
   ]
  },
  {
   "cell_type": "code",
   "execution_count": 2,
   "metadata": {},
   "outputs": [],
   "source": [
    "import seaborn as sns\n",
    "import pylab\n",
    "sns.set(font_scale=3)\n",
    "pylab.rcParams['figure.figsize'] = (16, 10)"
   ]
  },
  {
   "cell_type": "code",
   "execution_count": 3,
   "metadata": {},
   "outputs": [],
   "source": [
    "gene='tcaggcacctaatgccatcgctaattaccacaaatatttccgaggacacgcttccaacgctatctaaaagccgacctgggggcaggcaatagtcagtcacgattagcggccgaggcctatttactgggaggcacagtcgatgcagtgttcttatacaaactctggcctgtgagcggttagggtaggagcgtatacggtagcagaatggttacccgctgtcgtagttgcgggtgggaggccacactgagagatcggtttgctcgagtctgtacaaaaatcacgcagtcaacgtctttcgttccctgcccctggagttcttcctgttttctagacggtagacttctctagtaaacaacggacgctcacataccggtccgccgccatgtagtcacgaacacgtaacgatcaggcccctctcatggaggccggcgatgaacagaacacatacgaaatacctgagccgtaaagtaatctacgccattgctgaccgccccggaatcacggtcggttctaggggattacgtcgttttgttatcttctcacgcacggaagccatgtacctgttgttgaagtatgtagtcgttgtatcccacagagactggatctccatctcgcgcatcctaaccccggtacttagctcattacgcttcgtataatgaccggacgagagctcgtcttatcacctcaatgagagacccactcagttgaccagaacccgagtaaattcagaccctatggcaaggtacacgtggccgctttattggccgcgcttttagagatacgccaagggactgatgggagttggtttgataacgttagttcatgttaaatttaggttctaacatctcattgttgagatgaggcacaggaaggtggagcacatcagtttgttactgtgatctgtagtaccaggatgtacccgtatggggcacattccgaatacctcgccatgttgtgtacgtttggtccggtcattgctccaaccctgcattaaataagtgcagacgtagctcgttcttcggtctagcaatcgtctctgtaatatctctgtggataacgtgttgtgtagtgcgattatcgatggcgcggggtccgtgggcaaaatcgcggtatactgaacgccgtctgtttagttctgtctacttgatgttcaagatccggctcatcggagcccaagtacaagaaggggtaaccatcgctttgtcatagcacaactctggtacaaccacgcggctaactctcctaggggctaggcaaacgatgtcgcattcacgcatggtatctcccggcaggaaatctaatcaacgtccctagcccagctctgcacaaagacccccgtacaactgacgaggcgcagcgcccaccactgcaccgactgaccgcaaggactccccagctacaagtgacgccatcctggattgtccgtccgaacgcgccctggccagtaccgtgattttgggaccggttatctcttttcggcaggagatgtatcccctggcggggccggagtttgctttgcgacgtttaccacgcatactcagggcgctaatcacatgtacgctgcttaccttcccggccagcgacttcacattttggccaccttatctttcggcgagaggccatctcagatatctctttcctgacataagcactaattatcacagggtcctaaaagtgaactccgtcgatgctcgggcgtctgaaaagcgttcgattaccggcgtagtgagaaccctcggtcgccgagtgtaacgtatagtctagaacccgagcaagtatgatcgtccaagagtatacccagaatactcgcaattaaacccctgaccatgtgatatcatactgaacagccttggtcgttaaggacaaggcgcctcgttatcgatttacttccatgatcgtccccacatgtccagctcgagcttttccgtgaagtggcgtcgccggcagagctgccatcagggggcgtgtacgtgaaataccagcccaacagcgcattaaggatcgatcttgagggatggatgttgcttcctacatgatcttcgaaccaatatccaggacccagggtcctagtttgtggtgcttatggatcacgggtgacaaacccgcgacttagtgcttaaacaaacaaacggaaagtatcgttcatgggcggcgcaagggaaactctgtccaatatctggtccgtaggtcggccgaggcaatgggcccgaggagggaagtatattaggccgtgtccttgcaagcgcggccttgggctatagccttgtgcaaagtcagtcttgtccgggtctccccacagtaatcgttctgtagatggggtacgtccttttacagggaaacctggaccgcgcgttcgctggaccgagaggtctaaggagagcaatgattgttacagcctgccctctcaaggatatattgtcggtcgtcctgtaagccattcagttccgtctacaattcactgttaagtgatcagcctcgtaaatcgactctgtctttctgaattatgtcggtggtactaggggagtcggctgtaccgtcagctatgactcggatgttctgtgagtgcccttttagactcctaaagcctaatcagcacggtggacgtaacagtgcgactacaaagatatgctaaggtagcttggaatcctgatgggtggccacggacgacgaactgcgacggcctcgtttcattatgtatccggctatgggacggataagatgtactaacagtcgccggctcaagcagctaaccgattgtgttgtaagtgtgccaacataaactcagggcgatgaattcactgatacgaccttgcatcgaaggtttcctttaatgtggcgagaggccggcgccctgtactagtaccaggggaggagaatgaaaacgtcggcaccaggaacggacgtatagggagtttcatgttcctttgatgatcttcgtcagtaccatcgagacggttggtcctgagcaccgacgtccatgttcgacaatgctgctatcataattcgtctagactgcgacacgccaccgatttgaaaaaactatgcagacttagggcggcgccaccctgtagtgtcggtgaagcatgcagtcacaggcaaggttgaggtagcgtcttcgacagaatttcggcgctctttaacgtcggtcttggccacggtatgaatttggcacccacaaacggatagtgataacattatgttttcagtaagtgagcgctcttacctcgcaggtgacgcaacagctaagagttttttctgcttactagctgcaaatcatttggttcgcaccgtctgacttccattcacacagcctcaaggtgggggaacttcgtgtaaaaagtatggaatacagtggtcgaggccgcagagttaagactagtcttacgttacgacgacgggggaataaggcaaccgctaccatacgtacgccaacgcacattcagtactatgtatgcacccaccgaaagggttatactcgatccgcaaggtggttacacgtgattcaacggccggaattttaatcgaacttattttaatccactaggtaggatggatcgctggactcgaatagacttgtgtgacaatagacgcgcacgagacgtgacggtcccctagaagtatttgagttcagtgtagagaacgcatagcatgccgcctcccagactctcagacccgcgaccggagataaattctttgagtgcatggcccaggtagcgacttatacgacttttacccacgtgatcgcaccatccgtgtggcctcaggagatcacatggatccgggagaaaagattgattgaattcgaaatgctaaaaacctcttccgtcagggacttcccgacaacaagggcgctcggacaccaaagccgaacgcaagtccttgcgtactctaatccgccacactgaatggagcggcggtaaataaaatttgatcgtaggaggcgtgtaataaggctgtgcttagacttgcagagatcacaccaagtcgcgcaattcccttatccacgtgggtgcgtacctcggaggatctgatactagttgcctcagtgagacgcagatagcgacgaacactgaagcggaatattacagcaggactagggacgctatatcgggttaccttatgccccctgaaccaagctaactatggatcggctcaggcttggattgcttgtcagcagtgcagtgggatttgagctatgatccgtacggacacaatttgagacttatcaatcgaatcctatacaaacgtcggtatccgcttagcgcgtagggtgaactcaatcgtgggatttcctgcaaaaggggcggcgttgctaactcgccgacattccccgggtattaggactatgaagaacagcgtaatcactgcactgttcggacaattaaccaaagcgtattactcggtcatctagtaccttttataacccggttgcgcccaagttcattagccgaccggaggtttctgctacattcgttgtagcatcgtactccgctagagcacagcaagccctcacccgtagtgaactggctgctcggaatcaaagaatgtgtcccgtgcttttactcctgctccacagtattagaatctaaggtccgaacttaatctagtaaccatccgtgaaatggggtatattccaaacatggttaatacgcaggggcaggaagcgcttgcgatgattctcccaggcgcctcggcgcgttcgcaggaacctaactcggaccccgtccggactgacagcaccgcccaaatatagtgtccgtgcctcatccacagccgccccacggaatttagctcaataatatttatgcttggcctcaggtctaattggtatcatgcggggctcggtattcgggagatgacggtgcatgctggtacttctggacataactttgttgacggtttttgctgctattgcaggcctacccttagtcaacgagggcgcgtatctcgtcgtaccatgtggtaactgatacgcacaattagtggacctatgataacaacccccttccttcaatggagggaatttcgttctacaataatctgccataggtacgctactgggagcttgtcaggcttgaggccccagtttaggtctaagtttcagcagtcctcgaccgtagggatctttctgaggcgttaccccataactcggcagactgcccattccgattaaaacgcagaagcccgcgcgctcctcactttgcggtggcaaggcagcgggaacgacaccccctacatgctagatggctgccaggccctagatcccaatattgttgctcatcacggcacctgaaatacctgaaaataccatatttagttaagtcggattgtatttctactgcattcaggaggtggccgaagaaatgggttatatcatatgaatgtttattaagggttgcgcatttgatccacctctagggcggtggctaaattgaggcccagcatggattacagtgcggagtcgagtgtgtcgcaaaaattggtcttgtacttgagaagactcaagcataaaggattcgggaaagtggtttgccggtaagaccctttgcgacgattgttatcacagtcacagagtagtatccaattcgcggcagctcttcgtaaatgtggtggacttgtgttcacagaatagaagtgtattgagcaaataacgggcagatcgggacgctatagaatattttgcattgggctaggcaatgcttcggggcaagccgttcgtccgctggcatctaactagagcgcagtcgaaacgggagagcatcctgactccgtcgtttttgttattacactccacgtgcctacacttatcgcacaacaagcagattcgatgcaggatcttcttatacgggcagcattcgcgtacagtcagaaagcaggccccaagcgttacaaacgtgggttcgacattgttgcggtattgcgcaaaggattgatagtgaccggggtcaacgtccatttggtaaagcagatgtttagcgtatatccacccagtaatcgcgaactttttttatgcacgtcggctgtattatgcacggaacgatcggacgagccccttgccccagaatgtcagctgttatccaccttagggagtctaacggggcatcgttggggtaacgctcagacgctgcggttcgatatggctcactagtggtcagcgagcgcgaaaggttcttgccttaaaagtgcttttgtgccttctcctgccaggaaggacctcagcttagaatctggtacgaaaaccctagctccatagggacctgaagacgtcaattacgttggtccctcgctcaaaactagtatactaacggcaagagtgtcggggacgatcttagtggagaaccgttggagggcttcagggaagtagaatgaaggttacttaagatctgtattggcgaacatcgttgtgcccttcagcaaaggtagatttcctaaaaagagtgtagcgttaccgaggcgtctgctcgttgaagcttacagtcctacaatagacagaatatgccgaggagcacgcgcattaacgacacccgaatatcaattccccctcagaccgtgacgcggctctcttcccgttcagtcacgtgtgcttgaaacgcatctgcaaattcgggtcgcatacttcatcacatacttttaatccaacctaccgatagactctttgagtgttatatgtagttaccatctaatgtactaggtatatacccaccgattgcctgtcggtaggtcaatggatctgttggtcctcagtaggatttctaagtttgggctgctcctctttctataatgagaagccgtattttctaatggagagaattcgcgggttagctcccgagacaacggtacatttatttcgaacgacggggttctgatcatcaatcgatcacgctatacgtcggcagagacacggccggtatatctgctcttaatcttaatggtccaaagctgcgtgtcttgcagtgtctttattcgtcatcatgtctactcaaagccctgggtttctctcaacgaccacaaaagtgacggctctgcagagtatttacgtacgacgctagctgcatccattttttgtaggacccggcgctgcgaagacggtgtcgccggttcgtcacttagccttaccatgagtagagctgagacggcttccgatagactaagcaaagctgcgtaaccacacggcggcggctccgttccccggccatgccacagtttatagctgaagctacacgtgcaacctcacttaaacgccagccgcacaagctctgaaatgctaggtatacagggaactagtgactgtatcacgtttagaatcccaatagaggactcggaagaagataagtatcggtttcgaatgaccctaggacgacttctttcaattattttgattaccttcagtcgacgatcccatttgcatgccgcttgatttcgcccaatcggtagtttacaccttacggaatttcatgacctggtacatagttccttgcgaaccaaatttttttgatcgaatgtaagcggttcattctgtggttgtgagataaatgtaaccatgacgtccctaagaaatggagacataagggtctcccttctcgcatttcactctcctggtcatgttaacgcgcggcgggatgtactgctgtcttgctaggctcttccaatcgaaagccatttgcataattcttggatttgactacgtttgatgcagtccctcccacttcaccaataccctgttacccttactctcccacctatagtaaaaggtagaaataagcatggcgctatttaagtgtgacacctgtgcatgcgtgaatggactcgtacaggacaggggcgctagagaggactggggctacttgtaggcgacggcttcccgcgctatctgatcaagggatcaggaacaactgcctgtacttttttgggatatcgtcaacgcagttactatcatccaagctagactaacttcggatacggacagttcttcccgtctgacttgtgagttacggggggatgcgtctccgctcacttacggttactcggttgactctacaagaagcgacgataggactgcgccttttctcctggggactaggcaggttttgcttgccaatcccatattgtgtgaagtggtagaccagagtgcaatacaccggccctgactcagagtcagattcatgctcgccggcgcatatgtcatctcccctgccccctgttggagaccgggaatcggtaaaaaggttgttgccatggttgggtcgcccttccattaccacgagtaagtttcaccctgtcagaccgaacaataactcgactgagaggcatcggtatcatggtccggctgagaggcgtgcaaacactaagacgctcgttgtcggacggatgccctatagtattaccagtctattgccgggcaagctgttgagtcatgtctagccaccttcctaataaccgaggacagcgctagagataaccacgctgcgcagtttgcgcagtcctgcctggaggaccttcaaatatagtttcgcctacgaatagcaccgagacggagctacgtgagtcctggagtcgatcagagattatttcggcgtgcccccccccgggaacggcgctgcgacggaatcaaacgagtccaaaatagttgttgtaaccatgctgctttctcagaatttgccctcattcgcgctacttagcataccatgtcaaaagcggtaaggccgttttgggtgtgcacataaatctacgtcaatcgtaaacctgattgcggggaacacggtcagttacaacacgagtcttctcagtgagaattagtgtttctacacgctccgatgccattaacacgattgcactcttttacgggaaatttggtgcgagacatcgcttccaatttatactgctggtagcaatgcacgactgcggcaaggtctaggatctcaagatacccgattagagtgcccccggcccgtgcgttgcgatatatcatccatgaggtcctgcggtatcttgtacggccagggggttcgagaactccaacgatactcaaaagatgccggatcagacgggataagattagactaaactcaaaaccacaccctttgatgttaggagaacgattaccatgataattctatcaagggctttgccggaacactgacctaacatgtgtacttgaccgatacgttatactttcacagagtcgctgaccccagcgcttagttatatttcaattggattccccccctaatgtccttagacaactggataaatgcctctaaccgactgcgattagtctactttatatcttgttgcggcatacggttttgacaactacacgcaagtgtgatgacgcaatcatcaatagagtacccgtgaacttagattacggatttgtcggtaacgggtcgttcaaaaacgtctaccggacggtcgactctccgtagaaaacgttacagcagcttccatgtcgcctgaacggctgtaatgtacaaacgaacgaaaagcaagcagctcatggtagacagtgcaaagggcatacttaagtttttacctgttcgtgaacaacgatgctccggctccactaggatggtcaagcacacctagtaaccgttgctatcgatgaaccaccccagtaaacccaggtagccggttcagcgttagcggacctggagcattcacgggcagcatcccgcgggttagcacgttcgaaatgtccgttatccggttggattacgtgtagtaggcagtgtctatgctctcccatgcggattgttctggtatcttatacgactgtaaagcgtgtctatggacatggaatataaaaatacctggatatcacaaatcaataattgagtagctggtaagatcacaccttagacacttgatctaaatggttcatctatatctgaaccgatgaagtgtttccaggttgttttgacatgtctttacaaattacgagttgtgccccgtcgcgatagcagtcggtcaggctccttcgccgctctcacccggcggatta'"
   ]
  },
  {
   "cell_type": "code",
   "execution_count": 4,
   "metadata": {},
   "outputs": [],
   "source": [
    "search_str='cgtgcctggttcgttcggaa'"
   ]
  },
  {
   "cell_type": "markdown",
   "metadata": {},
   "source": [
    "# Exact match search throughout the entire gene"
   ]
  },
  {
   "cell_type": "code",
   "execution_count": null,
   "metadata": {},
   "outputs": [],
   "source": [
    "def exact_matches(gene,search_str):\n",
    "    top=[]\n",
    "    search_len=len(search_str)\n",
    "    for i in range(0,len(gene)-search_len):\n",
    "        if gene[i:search_len+i]==search_str:\n",
    "            top.append(i)\n",
    "\n",
    "    return top,bottom"
   ]
  },
  {
   "cell_type": "code",
   "execution_count": 25,
   "metadata": {},
   "outputs": [],
   "source": [
    "for i in range(10,2):\n",
    "    print(i)"
   ]
  },
  {
   "cell_type": "code",
   "execution_count": 11,
   "metadata": {},
   "outputs": [
    {
     "ename": "NameError",
     "evalue": "name 'reverse' is not defined",
     "output_type": "error",
     "traceback": [
      "\u001b[0;31m---------------------------------------------------------------------------\u001b[0m",
      "\u001b[0;31mNameError\u001b[0m                                 Traceback (most recent call last)",
      "\u001b[0;32m<ipython-input-11-3fda8de7bd11>\u001b[0m in \u001b[0;36m<module>\u001b[0;34m\u001b[0m\n\u001b[0;32m----> 1\u001b[0;31m \u001b[0mreverse\u001b[0m\u001b[0;34m(\u001b[0m\u001b[0msearch_str\u001b[0m\u001b[0;34m)\u001b[0m\u001b[0;34m\u001b[0m\u001b[0;34m\u001b[0m\u001b[0m\n\u001b[0m",
      "\u001b[0;31mNameError\u001b[0m: name 'reverse' is not defined"
     ]
    }
   ],
   "source": [
    "reverse(search_str)"
   ]
  },
  {
   "cell_type": "code",
   "execution_count": 12,
   "metadata": {},
   "outputs": [],
   "source": [
    "complement_map = {'t':'a',\n",
    "                  'a':'t',\n",
    "                  'c':'g',\n",
    "                  'g':'c'}"
   ]
  },
  {
   "cell_type": "code",
   "execution_count": 20,
   "metadata": {},
   "outputs": [],
   "source": [
    "def complement_strand(input_str):\n",
    "    complement_map = {'t':'a',\n",
    "                  'a':'t',\n",
    "                  'c':'g',\n",
    "                  'g':'c'}\n",
    "    output_str=''\n",
    "    for i in range(0,len(input_str)):\n",
    "        output_str=output_str+complement_map[input_str[i]]\n",
    "    return output_str\n",
    "    "
   ]
  },
  {
   "cell_type": "code",
   "execution_count": 18,
   "metadata": {},
   "outputs": [
    {
     "data": {
      "text/plain": [
       "'cgtgcctggttcgttcggaa'"
      ]
     },
     "execution_count": 18,
     "metadata": {},
     "output_type": "execute_result"
    }
   ],
   "source": [
    "search_str"
   ]
  },
  {
   "cell_type": "code",
   "execution_count": 13,
   "metadata": {},
   "outputs": [],
   "source": [
    "str1= 'cgtgcct'\n",
    "str2=''\n",
    "for i in range(0,len(str1)):\n",
    "    str2=str2+complement_map[str1[i]]"
   ]
  },
  {
   "cell_type": "code",
   "execution_count": 14,
   "metadata": {},
   "outputs": [
    {
     "data": {
      "text/plain": [
       "'gcacgga'"
      ]
     },
     "execution_count": 14,
     "metadata": {},
     "output_type": "execute_result"
    }
   ],
   "source": [
    "str2"
   ]
  },
  {
   "cell_type": "code",
   "execution_count": 5,
   "metadata": {},
   "outputs": [
    {
     "data": {
      "text/plain": [
       "[]"
      ]
     },
     "execution_count": 5,
     "metadata": {},
     "output_type": "execute_result"
    }
   ],
   "source": [
    "exact_matches(gene,search_str)"
   ]
  },
  {
   "cell_type": "markdown",
   "metadata": {},
   "source": [
    "# Percentage Calculation \n",
    "\n",
    "* All is equal weighted"
   ]
  },
  {
   "cell_type": "code",
   "execution_count": 9,
   "metadata": {},
   "outputs": [
    {
     "data": {
      "text/plain": [
       "7461    0.65\n",
       "4012    0.60\n",
       "6026    0.60\n",
       "9376    0.60\n",
       "1843    0.60\n",
       "920     0.60\n",
       "1082    0.60\n",
       "1412    0.60\n",
       "4004    0.60\n",
       "6273    0.55\n",
       "9901    0.55\n",
       "1120    0.55\n",
       "2677    0.55\n",
       "5308    0.55\n",
       "2481    0.55\n",
       "dtype: float64"
      ]
     },
     "execution_count": 9,
     "metadata": {},
     "output_type": "execute_result"
    }
   ],
   "source": [
    "percentage_calculation(gene,search_str,15)"
   ]
  },
  {
   "cell_type": "markdown",
   "metadata": {},
   "source": [
    "# Linearally weighted skewed towards the beginning"
   ]
  },
  {
   "cell_type": "code",
   "execution_count": 7,
   "metadata": {},
   "outputs": [
    {
     "data": {
      "text/plain": [
       "<matplotlib.axes._subplots.AxesSubplot at 0x1a23b55fd0>"
      ]
     },
     "execution_count": 7,
     "metadata": {},
     "output_type": "execute_result"
    },
    {
     "data": {
      "image/png": "[encoded data removed]",
      "text/plain": [
       "<Figure size 1152x720 with 1 Axes>"
      ]
     },
     "metadata": {},
     "output_type": "display_data"
    }
   ],
   "source": [
    "s={}\n",
    "total=len(search_str)*(len(search_str)-1)/2\n",
    "for i in range(0,len(search_str)):\n",
    "    s[i]=(len(search_str)-i)/total\n",
    "pd.Series(s).plot(kind='bar')"
   ]
  },
  {
   "cell_type": "code",
   "execution_count": 8,
   "metadata": {},
   "outputs": [
    {
     "data": {
      "text/plain": [
       "747     0.036842\n",
       "1005    0.036579\n",
       "4757    0.036579\n",
       "4012    0.036316\n",
       "5793    0.035789\n",
       "9642    0.035789\n",
       "4004    0.034474\n",
       "4831    0.033947\n",
       "7461    0.033684\n",
       "6189    0.033684\n",
       "dtype: float64"
      ]
     },
     "execution_count": 8,
     "metadata": {},
     "output_type": "execute_result"
    }
   ],
   "source": [
    "weighted_calculation(gene,search_str)"
   ]
  }
 ],
 "metadata": {
  "kernelspec": {
   "display_name": "Python 3",
   "language": "python",
   "name": "python3"
  },
  "language_info": {
   "codemirror_mode": {
    "name": "ipython",
    "version": 3
   },
   "file_extension": ".py",
   "mimetype": "text/x-python",
   "name": "python",
   "nbconvert_exporter": "python",
   "pygments_lexer": "ipython3",
   "version": "3.7.3"
  }
 },
 "nbformat": 4,
 "nbformat_minor": 4
}
