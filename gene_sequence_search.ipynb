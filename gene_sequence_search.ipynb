{
 "cells": [
  {
   "cell_type": "code",
   "execution_count": 51,
   "metadata": {},
   "outputs": [],
   "source": [
    "import pandas as pd"
   ]
  },
  {
   "cell_type": "code",
   "execution_count": 2,
   "metadata": {},
   "outputs": [],
   "source": [
    "gene='tcaggcacctaatgccatcgctaattaccacaaatatttccgaggacacgcttccaacgctatctaaaagccgacctgggggcaggcaatagtcagtcacgattagcggccgaggcctatttactgggaggcacagtcgatgcagtgttcttatacaaactctggcctgtgagcggttagggtaggagcgtatacggtagcagaatggttacccgctgtcgtagttgcgggtgggaggccacactgagagatcggtttgctcgagtctgtacaaaaatcacgcagtcaacgtctttcgttccctgcccctggagttcttcctgttttctagacggtagacttctctagtaaacaacggacgctcacataccggtccgccgccatgtagtcacgaacacgtaacgatcaggcccctctcatggaggccggcgatgaacagaacacatacgaaatacctgagccgtaaagtaatctacgccattgctgaccgccccggaatcacggtcggttctaggggattacgtcgttttgttatcttctcacgcacggaagccatgtacctgttgttgaagtatgtagtcgttgtatcccacagagactggatctccatctcgcgcatcctaaccccggtacttagctcattacgcttcgtataatgaccggacgagagctcgtcttatcacctcaatgagagacccactcagttgaccagaacccgagtaaattcagaccctatggcaaggtacacgtggccgctttattggccgcgcttttagagatacgccaagggactgatgggagttggtttgataacgttagttcatgttaaatttaggttctaacatctcattgttgagatgaggcacaggaaggtggagcacatcagtttgttactgtgatctgtagtaccaggatgtacccgtatggggcacattccgaatacctcgccatgttgtgtacgtttggtccggtcattgctccaaccctgcattaaataagtgcagacgtagctcgttcttcggtctagcaatcgtctctgtaatatctctgtggataacgtgttgtgtagtgcgattatcgatggcgcggggtccgtgggcaaaatcgcggtatactgaacgccgtctgtttagttctgtctacttgatgttcaagatccggctcatcggagcccaagtacaagaaggggtaaccatcgctttgtcatagcacaactctggtacaaccacgcggctaactctcctaggggctaggcaaacgatgtcgcattcacgcatggtatctcccggcaggaaatctaatcaacgtccctagcccagctctgcacaaagacccccgtacaactgacgaggcgcagcgcccaccactgcaccgactgaccgcaaggactccccagctacaagtgacgccatcctggattgtccgtccgaacgcgccctggccagtaccgtgattttgggaccggttatctcttttcggcaggagatgtatcccctggcggggccggagtttgctttgcgacgtttaccacgcatactcagggcgctaatcacatgtacgctgcttaccttcccggccagcgacttcacattttggccaccttatctttcggcgagaggccatctcagatatctctttcctgacataagcactaattatcacagggtcctaaaagtgaactccgtcgatgctcgggcgtctgaaaagcgttcgattaccggcgtagtgagaaccctcggtcgccgagtgtaacgtatagtctagaacccgagcaagtatgatcgtccaagagtatacccagaatactcgcaattaaacccctgaccatgtgatatcatactgaacagccttggtcgttaaggacaaggcgcctcgttatcgatttacttccatgatcgtccccacatgtccagctcgagcttttccgtgaagtggcgtcgccggcagagctgccatcagggggcgtgtacgtgaaataccagcccaacagcgcattaaggatcgatcttgagggatggatgttgcttcctacatgatcttcgaaccaatatccaggacccagggtcctagtttgtggtgcttatggatcacgggtgacaaacccgcgacttagtgcttaaacaaacaaacggaaagtatcgttcatgggcggcgcaagggaaactctgtccaatatctggtccgtaggtcggccgaggcaatgggcccgaggagggaagtatattaggccgtgtccttgcaagcgcggccttgggctatagccttgtgcaaagtcagtcttgtccgggtctccccacagtaatcgttctgtagatggggtacgtccttttacagggaaacctggaccgcgcgttcgctggaccgagaggtctaaggagagcaatgattgttacagcctgccctctcaaggatatattgtcggtcgtcctgtaagccattcagttccgtctacaattcactgttaagtgatcagcctcgtaaatcgactctgtctttctgaattatgtcggtggtactaggggagtcggctgtaccgtcagctatgactcggatgttctgtgagtgcccttttagactcctaaagcctaatcagcacggtggacgtaacagtgcgactacaaagatatgctaaggtagcttggaatcctgatgggtggccacggacgacgaactgcgacggcctcgtttcattatgtatccggctatgggacggataagatgtactaacagtcgccggctcaagcagctaaccgattgtgttgtaagtgtgccaacataaactcagggcgatgaattcactgatacgaccttgcatcgaaggtttcctttaatgtggcgagaggccggcgccctgtactagtaccaggggaggagaatgaaaacgtcggcaccaggaacggacgtatagggagtttcatgttcctttgatgatcttcgtcagtaccatcgagacggttggtcctgagcaccgacgtccatgttcgacaatgctgctatcataattcgtctagactgcgacacgccaccgatttgaaaaaactatgcagacttagggcggcgccaccctgtagtgtcggtgaagcatgcagtcacaggcaaggttgaggtagcgtcttcgacagaatttcggcgctctttaacgtcggtcttggccacggtatgaatttggcacccacaaacggatagtgataacattatgttttcagtaagtgagcgctcttacctcgcaggtgacgcaacagctaagagttttttctgcttactagctgcaaatcatttggttcgcaccgtctgacttccattcacacagcctcaaggtgggggaacttcgtgtaaaaagtatggaatacagtggtcgaggccgcagagttaagactagtcttacgttacgacgacgggggaataaggcaaccgctaccatacgtacgccaacgcacattcagtactatgtatgcacccaccgaaagggttatactcgatccgcaaggtggttacacgtgattcaacggccggaattttaatcgaacttattttaatccactaggtaggatggatcgctggactcgaatagacttgtgtgacaatagacgcgcacgagacgtgacggtcccctagaagtatttgagttcagtgtagagaacgcatagcatgccgcctcccagactctcagacccgcgaccggagataaattctttgagtgcatggcccaggtagcgacttatacgacttttacccacgtgatcgcaccatccgtgtggcctcaggagatcacatggatccgggagaaaagattgattgaattcgaaatgctaaaaacctcttccgtcagggacttcccgacaacaagggcgctcggacaccaaagccgaacgcaagtccttgcgtactctaatccgccacactgaatggagcggcggtaaataaaatttgatcgtaggaggcgtgtaataaggctgtgcttagacttgcagagatcacaccaagtcgcgcaattcccttatccacgtgggtgcgtacctcggaggatctgatactagttgcctcagtgagacgcagatagcgacgaacactgaagcggaatattacagcaggactagggacgctatatcgggttaccttatgccccctgaaccaagctaactatggatcggctcaggcttggattgcttgtcagcagtgcagtgggatttgagctatgatccgtacggacacaatttgagacttatcaatcgaatcctatacaaacgtcggtatccgcttagcgcgtagggtgaactcaatcgtgggatttcctgcaaaaggggcggcgttgctaactcgccgacattccccgggtattaggactatgaagaacagcgtaatcactgcactgttcggacaattaaccaaagcgtattactcggtcatctagtaccttttataacccggttgcgcccaagttcattagccgaccggaggtttctgctacattcgttgtagcatcgtactccgctagagcacagcaagccctcacccgtagtgaactggctgctcggaatcaaagaatgtgtcccgtgcttttactcctgctccacagtattagaatctaaggtccgaacttaatctagtaaccatccgtgaaatggggtatattccaaacatggttaatacgcaggggcaggaagcgcttgcgatgattctcccaggcgcctcggcgcgttcgcaggaacctaactcggaccccgtccggactgacagcaccgcccaaatatagtgtccgtgcctcatccacagccgccccacggaatttagctcaataatatttatgcttggcctcaggtctaattggtatcatgcggggctcggtattcgggagatgacggtgcatgctggtacttctggacataactttgttgacggtttttgctgctattgcaggcctacccttagtcaacgagggcgcgtatctcgtcgtaccatgtggtaactgatacgcacaattagtggacctatgataacaacccccttccttcaatggagggaatttcgttctacaataatctgccataggtacgctactgggagcttgtcaggcttgaggccccagtttaggtctaagtttcagcagtcctcgaccgtagggatctttctgaggcgttaccccataactcggcagactgcccattccgattaaaacgcagaagcccgcgcgctcctcactttgcggtggcaaggcagcgggaacgacaccccctacatgctagatggctgccaggccctagatcccaatattgttgctcatcacggcacctgaaatacctgaaaataccatatttagttaagtcggattgtatttctactgcattcaggaggtggccgaagaaatgggttatatcatatgaatgtttattaagggttgcgcatttgatccacctctagggcggtggctaaattgaggcccagcatggattacagtgcggagtcgagtgtgtcgcaaaaattggtcttgtacttgagaagactcaagcataaaggattcgggaaagtggtttgccggtaagaccctttgcgacgattgttatcacagtcacagagtagtatccaattcgcggcagctcttcgtaaatgtggtggacttgtgttcacagaatagaagtgtattgagcaaataacgggcagatcgggacgctatagaatattttgcattgggctaggcaatgcttcggggcaagccgttcgtccgctggcatctaactagagcgcagtcgaaacgggagagcatcctgactccgtcgtttttgttattacactccacgtgcctacacttatcgcacaacaagcagattcgatgcaggatcttcttatacgggcagcattcgcgtacagtcagaaagcaggccccaagcgttacaaacgtgggttcgacattgttgcggtattgcgcaaaggattgatagtgaccggggtcaacgtccatttggtaaagcagatgtttagcgtatatccacccagtaatcgcgaactttttttatgcacgtcggctgtattatgcacggaacgatcggacgagccccttgccccagaatgtcagctgttatccaccttagggagtctaacggggcatcgttggggtaacgctcagacgctgcggttcgatatggctcactagtggtcagcgagcgcgaaaggttcttgccttaaaagtgcttttgtgccttctcctgccaggaaggacctcagcttagaatctggtacgaaaaccctagctccatagggacctgaagacgtcaattacgttggtccctcgctcaaaactagtatactaacggcaagagtgtcggggacgatcttagtggagaaccgttggagggcttcagggaagtagaatgaaggttacttaagatctgtattggcgaacatcgttgtgcccttcagcaaaggtagatttcctaaaaagagtgtagcgttaccgaggcgtctgctcgttgaagcttacagtcctacaatagacagaatatgccgaggagcacgcgcattaacgacacccgaatatcaattccccctcagaccgtgacgcggctctcttcccgttcagtcacgtgtgcttgaaacgcatctgcaaattcgggtcgcatacttcatcacatacttttaatccaacctaccgatagactctttgagtgttatatgtagttaccatctaatgtactaggtatatacccaccgattgcctgtcggtaggtcaatggatctgttggtcctcagtaggatttctaagtttgggctgctcctctttctataatgagaagccgtattttctaatggagagaattcgcgggttagctcccgagacaacggtacatttatttcgaacgacggggttctgatcatcaatcgatcacgctatacgtcggcagagacacggccggtatatctgctcttaatcttaatggtccaaagctgcgtgtcttgcagtgtctttattcgtcatcatgtctactcaaagccctgggtttctctcaacgaccacaaaagtgacggctctgcagagtatttacgtacgacgctagctgcatccattttttgtaggacccggcgctgcgaagacggtgtcgccggttcgtcacttagccttaccatgagtagagctgagacggcttccgatagactaagcaaagctgcgtaaccacacggcggcggctccgttccccggccatgccacagtttatagctgaagctacacgtgcaacctcacttaaacgccagccgcacaagctctgaaatgctaggtatacagggaactagtgactgtatcacgtttagaatcccaatagaggactcggaagaagataagtatcggtttcgaatgaccctaggacgacttctttcaattattttgattaccttcagtcgacgatcccatttgcatgccgcttgatttcgcccaatcggtagtttacaccttacggaatttcatgacctggtacatagttccttgcgaaccaaatttttttgatcgaatgtaagcggttcattctgtggttgtgagataaatgtaaccatgacgtccctaagaaatggagacataagggtctcccttctcgcatttcactctcctggtcatgttaacgcgcggcgggatgtactgctgtcttgctaggctcttccaatcgaaagccatttgcataattcttggatttgactacgtttgatgcagtccctcccacttcaccaataccctgttacccttactctcccacctatagtaaaaggtagaaataagcatggcgctatttaagtgtgacacctgtgcatgcgtgaatggactcgtacaggacaggggcgctagagaggactggggctacttgtaggcgacggcttcccgcgctatctgatcaagggatcaggaacaactgcctgtacttttttgggatatcgtcaacgcagttactatcatccaagctagactaacttcggatacggacagttcttcccgtctgacttgtgagttacggggggatgcgtctccgctcacttacggttactcggttgactctacaagaagcgacgataggactgcgccttttctcctggggactaggcaggttttgcttgccaatcccatattgtgtgaagtggtagaccagagtgcaatacaccggccctgactcagagtcagattcatgctcgccggcgcatatgtcatctcccctgccccctgttggagaccgggaatcggtaaaaaggttgttgccatggttgggtcgcccttccattaccacgagtaagtttcaccctgtcagaccgaacaataactcgactgagaggcatcggtatcatggtccggctgagaggcgtgcaaacactaagacgctcgttgtcggacggatgccctatagtattaccagtctattgccgggcaagctgttgagtcatgtctagccaccttcctaataaccgaggacagcgctagagataaccacgctgcgcagtttgcgcagtcctgcctggaggaccttcaaatatagtttcgcctacgaatagcaccgagacggagctacgtgagtcctggagtcgatcagagattatttcggcgtgcccccccccgggaacggcgctgcgacggaatcaaacgagtccaaaatagttgttgtaaccatgctgctttctcagaatttgccctcattcgcgctacttagcataccatgtcaaaagcggtaaggccgttttgggtgtgcacataaatctacgtcaatcgtaaacctgattgcggggaacacggtcagttacaacacgagtcttctcagtgagaattagtgtttctacacgctccgatgccattaacacgattgcactcttttacgggaaatttggtgcgagacatcgcttccaatttatactgctggtagcaatgcacgactgcggcaaggtctaggatctcaagatacccgattagagtgcccccggcccgtgcgttgcgatatatcatccatgaggtcctgcggtatcttgtacggccagggggttcgagaactccaacgatactcaaaagatgccggatcagacgggataagattagactaaactcaaaaccacaccctttgatgttaggagaacgattaccatgataattctatcaagggctttgccggaacactgacctaacatgtgtacttgaccgatacgttatactttcacagagtcgctgaccccagcgcttagttatatttcaattggattccccccctaatgtccttagacaactggataaatgcctctaaccgactgcgattagtctactttatatcttgttgcggcatacggttttgacaactacacgcaagtgtgatgacgcaatcatcaatagagtacccgtgaacttagattacggatttgtcggtaacgggtcgttcaaaaacgtctaccggacggtcgactctccgtagaaaacgttacagcagcttccatgtcgcctgaacggctgtaatgtacaaacgaacgaaaagcaagcagctcatggtagacagtgcaaagggcatacttaagtttttacctgttcgtgaacaacgatgctccggctccactaggatggtcaagcacacctagtaaccgttgctatcgatgaaccaccccagtaaacccaggtagccggttcagcgttagcggacctggagcattcacgggcagcatcccgcgggttagcacgttcgaaatgtccgttatccggttggattacgtgtagtaggcagtgtctatgctctcccatgcggattgttctggtatcttatacgactgtaaagcgtgtctatggacatggaatataaaaatacctggatatcacaaatcaataattgagtagctggtaagatcacaccttagacacttgatctaaatggttcatctatatctgaaccgatgaagtgtttccaggttgttttgacatgtctttacaaattacgagttgtgccccgtcgcgatagcagtcggtcaggctccttcgccgctctcacccggcggatta'"
   ]
  },
  {
   "cell_type": "code",
   "execution_count": 4,
   "metadata": {},
   "outputs": [],
   "source": [
    "search_str='cgtgcctggttcgttcggaa'"
   ]
  },
  {
   "cell_type": "code",
   "execution_count": 21,
   "metadata": {},
   "outputs": [],
   "source": [
    "# Excact match\n",
    "def exact_matches(gene,search_str):\n",
    "    matches=[]\n",
    "    search_len=len(search_str)\n",
    "    for i in range(0,len(gene)-search_len):\n",
    "        if gene[i:search_len+i]==search_str:\n",
    "            matches.append(i)\n",
    "    return matches\n"
   ]
  },
  {
   "cell_type": "code",
   "execution_count": 24,
   "metadata": {},
   "outputs": [
    {
     "data": {
      "text/plain": [
       "[]"
      ]
     },
     "execution_count": 24,
     "metadata": {},
     "output_type": "execute_result"
    }
   ],
   "source": [
    "exact_matches(gene,search_str)"
   ]
  },
  {
   "cell_type": "code",
   "execution_count": 31,
   "metadata": {},
   "outputs": [],
   "source": [
    "str1=search_str\n",
    "str2='cacgcttccaacgctatcta'"
   ]
  },
  {
   "cell_type": "code",
   "execution_count": 68,
   "metadata": {},
   "outputs": [],
   "source": [
    "def _percentage_calculation(str1,str2):\n",
    "    correct=0\n",
    "    for i in range(0,len(str1)):\n",
    "        if str1[i]==str2[i]:\n",
    "            correct=correct+1\n",
    "    return correct/len(str1)"
   ]
  },
  {
   "cell_type": "code",
   "execution_count": 69,
   "metadata": {},
   "outputs": [],
   "source": [
    "def percentage_calculation(gene,search_str,top=10):\n",
    "    power={}\n",
    "    search_len=len(search_str)\n",
    "    for i in range(0,len(gene)-search_len):\n",
    "        power[i]=_percentage_calculation(gene[i:search_len+i],search_str)\n",
    "    return pd.Series(power).sort_values(ascending=False)[:top]"
   ]
  },
  {
   "cell_type": "code",
   "execution_count": 70,
   "metadata": {},
   "outputs": [
    {
     "data": {
      "text/plain": [
       "7461    0.65\n",
       "4012    0.60\n",
       "6026    0.60\n",
       "9376    0.60\n",
       "1843    0.60\n",
       "920     0.60\n",
       "1082    0.60\n",
       "1412    0.60\n",
       "4004    0.60\n",
       "6273    0.55\n",
       "dtype: float64"
      ]
     },
     "execution_count": 70,
     "metadata": {},
     "output_type": "execute_result"
    }
   ],
   "source": [
    "percentage_calculation(gene,search_str)"
   ]
  },
  {
   "cell_type": "code",
   "execution_count": 79,
   "metadata": {},
   "outputs": [
    {
     "name": "stdout",
     "output_type": "stream",
     "text": [
      "28\n"
     ]
    }
   ],
   "source": [
    "s=0\n",
    "for i in range(1,8):\n",
    "    s=s+i\n",
    "print(s)"
   ]
  },
  {
   "cell_type": "code",
   "execution_count": 80,
   "metadata": {},
   "outputs": [
    {
     "data": {
      "text/plain": [
       "28.0"
      ]
     },
     "execution_count": 80,
     "metadata": {},
     "output_type": "execute_result"
    }
   ],
   "source": [
    "7*8/2"
   ]
  },
  {
   "cell_type": "code",
   "execution_count": 85,
   "metadata": {},
   "outputs": [],
   "source": [
    "def _weighted_percentage_calculation(str1,str2):\n",
    "    correct=0\n",
    "    total=len(str1)*(len(str1)-1)/2\n",
    "    for i in range(0,len(str1)):\n",
    "        if str1[i]==str2[i]:\n",
    "            correct=correct+(len(str1)-i)/total\n",
    "    return correct/len(str1)"
   ]
  },
  {
   "cell_type": "code",
   "execution_count": 86,
   "metadata": {},
   "outputs": [],
   "source": [
    "def weighted_calculation(gene,search_str,top=10):\n",
    "    power={}\n",
    "    search_len=len(search_str)\n",
    "    for i in range(0,len(gene)-search_len):\n",
    "        power[i]=_weighted_percentage_calculation(gene[i:search_len+i],search_str)\n",
    "    return pd.Series(power).sort_values(ascending=False)[:top]"
   ]
  },
  {
   "cell_type": "code",
   "execution_count": 87,
   "metadata": {},
   "outputs": [
    {
     "data": {
      "text/plain": [
       "747     0.036842\n",
       "1005    0.036579\n",
       "4757    0.036579\n",
       "4012    0.036316\n",
       "5793    0.035789\n",
       "9642    0.035789\n",
       "4004    0.034474\n",
       "4831    0.033947\n",
       "7461    0.033684\n",
       "6189    0.033684\n",
       "dtype: float64"
      ]
     },
     "execution_count": 87,
     "metadata": {},
     "output_type": "execute_result"
    }
   ],
   "source": [
    "weighted_calculation(gene,search_str)"
   ]
  },
  {
   "cell_type": "code",
   "execution_count": null,
   "metadata": {},
   "outputs": [],
   "source": []
  },
  {
   "cell_type": "code",
   "execution_count": null,
   "metadata": {},
   "outputs": [],
   "source": []
  }
 ],
 "metadata": {
  "kernelspec": {
   "display_name": "Python 3",
   "language": "python",
   "name": "python3"
  },
  "language_info": {
   "codemirror_mode": {
    "name": "ipython",
    "version": 3
   },
   "file_extension": ".py",
   "mimetype": "text/x-python",
   "name": "python",
   "nbconvert_exporter": "python",
   "pygments_lexer": "ipython3",
   "version": "3.7.3"
  }
 },
 "nbformat": 4,
 "nbformat_minor": 4
}
